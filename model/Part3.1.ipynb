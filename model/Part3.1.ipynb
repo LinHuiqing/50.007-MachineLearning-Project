{
 "cells": [
  {
   "cell_type": "code",
   "execution_count": 27,
   "metadata": {},
   "outputs": [],
   "source": [
    "# Part 3"
   ]
  },
  {
   "cell_type": "code",
   "execution_count": 1,
   "metadata": {},
   "outputs": [
    {
     "output_type": "execute_result",
     "data": {
      "text/plain": [
       "[[['Welcome', 'O'],\n",
       "  ['lunch', 'O'],\n",
       "  ['for', 'O'],\n",
       "  ['Charlotte', 'B-neutral'],\n",
       "  ['and', 'O'],\n",
       "  ['Tin', 'B-neutral'],\n",
       "  ['2', 'I-neutral'],\n",
       "  ['.', 'O'],\n",
       "  ['#DellPinoys', 'O'],\n",
       "  ['#iworkfordell', 'O'],\n",
       "  ['@', 'O'],\n",
       "  ['THE', 'B-neutral'],\n",
       "  ['CHEVRONS', 'I-neutral'],\n",
       "  ['https://t.co/B5SpZKcsWq', 'O']],\n",
       " [[\"I'm\", 'O'],\n",
       "  ['at', 'O'],\n",
       "  ['Virgo', 'O'],\n",
       "  ['Function', 'O'],\n",
       "  ['Rooms', 'O'],\n",
       "  ['in', 'O'],\n",
       "  ['Singapore', 'B-neutral'],\n",
       "  ['https://t.co/fBbt0AQlTs', 'O']]]"
      ]
     },
     "metadata": {},
     "execution_count": 1
    }
   ],
   "source": [
    "# reading a file\n",
    "\n",
    "def readfile(file):\n",
    "    with open(file, encoding = 'utf-8') as f:\n",
    "        \n",
    "        # sort file into comments, with each comment being an element of the list\n",
    "        l = f.read().strip().split('\\n\\n')\n",
    "        \n",
    "        # each word-line is then made into an element within each comment element\n",
    "        l2 = [i.split('\\n') for i in l]\n",
    "        \n",
    "        # each word in a word line is made the zeroth element of the 2nd nested list, and its respective entity/sentiment label the first element\n",
    "        for idx, line in enumerate(l2):\n",
    "            line = [i.split(\" \") for i in line]\n",
    "            l2[idx] = line\n",
    "        return l2\n",
    "\n",
    "data = readfile('train')\n",
    "data[:2]\n",
    "# print(data[0])"
   ]
  },
  {
   "cell_type": "code",
   "execution_count": 3,
   "metadata": {},
   "outputs": [],
   "source": [
    "import numpy as np"
   ]
  },
  {
   "cell_type": "code",
   "execution_count": 7,
   "metadata": {},
   "outputs": [
    {
     "output_type": "execute_result",
     "data": {
      "text/plain": [
       "(10,)"
      ]
     },
     "metadata": {},
     "execution_count": 7
    }
   ],
   "source": [
    "np.array(data[:10]).shape"
   ]
  },
  {
   "cell_type": "code",
   "execution_count": 9,
   "metadata": {
    "scrolled": true
   },
   "outputs": [
    {
     "output_type": "stream",
     "name": "stdout",
     "text": [
      "[['', 'START'], ['Welcome', 'O'], ['lunch', 'O'], ['for', 'O'], ['Charlotte', 'B-neutral'], ['and', 'O'], ['Tin', 'B-neutral'], ['2', 'I-neutral'], ['.', 'O'], ['#DellPinoys', 'O'], ['#iworkfordell', 'O'], ['@', 'O'], ['THE', 'B-neutral'], ['CHEVRONS', 'I-neutral'], ['https://t.co/B5SpZKcsWq', 'O'], ['', 'STOP']]\n"
     ]
    }
   ],
   "source": [
    "testing = data[0]\n",
    "testing.insert(0,['','START'])\n",
    "testing.append(['','STOP'])\n",
    "print(testing)"
   ]
  },
  {
   "cell_type": "code",
   "execution_count": 6,
   "metadata": {},
   "outputs": [
    {
     "output_type": "stream",
     "name": "stdout",
     "text": [
      "16\n"
     ]
    }
   ],
   "source": [
    "print(len(testing))"
   ]
  },
  {
   "cell_type": "code",
   "execution_count": 36,
   "metadata": {},
   "outputs": [],
   "source": [
    "for i, example in enumerate(data):\n",
    "    if example == [['']]:\n",
    "        print(i)"
   ]
  },
  {
   "cell_type": "code",
   "execution_count": 33,
   "metadata": {},
   "outputs": [
    {
     "output_type": "execute_result",
     "data": {
      "text/plain": [
       "18560"
      ]
     },
     "metadata": {},
     "execution_count": 33
    }
   ],
   "source": [
    "len(data)"
   ]
  },
  {
   "cell_type": "code",
   "execution_count": 2,
   "metadata": {},
   "outputs": [],
   "source": [
    "# count state transitions\n",
    "\n",
    "def cstDict(data):\n",
    "    \n",
    "    # dictionary holding the count of unique transitions from state y_i-1 to y_i, i.e. from a word of a comment to the next\n",
    "    # e.g. the if the transition 'machine' --> 'learning' is not in the dictionary already, tuple ('machine','learning') is added as a key with value 1\n",
    "    dictTran = {}\n",
    "    \n",
    "    # dictionary holding the count of unique states y_i-1, with STOP not included\n",
    "    dictY = {}\n",
    "    \n",
    "    for comments in data:\n",
    "        \n",
    "        # insert a start and stop state to each comment\n",
    "        comments.insert(0,['', 'START'])\n",
    "        comments.append(['','STOP'])\n",
    "\n",
    "        counter = len(comments)\n",
    "        \n",
    "        idx = counter - 1\n",
    "        idx2 = counter - 2\n",
    "        \n",
    "        # adding each state pair (y_i-1, y_i) to dictTran\n",
    "        # print(comments)\n",
    "        try:\n",
    "            while idx >= 0:\n",
    "                word_lower = comments[idx][1] # make words lower case\n",
    "                # print(word_lower)\n",
    "                # print(comments[idx - 1])\n",
    "                prev_word_lower = comments[idx - 1][1]\n",
    "                transition = (prev_word_lower, word_lower) # add to tuple\n",
    "                if transition not in dictTran.keys(): # check if already in dict\n",
    "                    dictTran[transition] = 1\n",
    "                else:\n",
    "                    dictTran[transition] += 1\n",
    "                idx -= 1\n",
    "                \n",
    "            # adding each state y_i-1 to dictY\n",
    "            while idx2 >= 0:\n",
    "                prev_word_lower = comments[idx2][1] # make words lower case\n",
    "                if prev_word_lower not in dictY.keys(): # check if already in dict\n",
    "                    dictY[prev_word_lower] = 1\n",
    "                else:\n",
    "                    dictY[prev_word_lower] += 1\n",
    "                idx2 -= 1\n",
    "        except:\n",
    "            print(comments)\n",
    "            \n",
    "    return dictTran, dictY\n",
    "\n",
    "def cst(yi_1, yi):\n",
    "    \n",
    "    # get data from cstDict\n",
    "    compare_tran, compare_yi_1 = cstDict(data)\n",
    "    \n",
    "    # change parameters to lower case\n",
    "    yi = yi.lower()\n",
    "    yi_1 = yi_1.lower()\n",
    "    \n",
    "    # add parameters to tuple to compare in dictionary\n",
    "    tranKey = (yi_1, yi)\n",
    "    \n",
    "    # numerator and denominator\n",
    "    num = compare_tran[tranKey]\n",
    "    denom = compare_yi_1[yi_1]\n",
    "    \n",
    "    # compute probability\n",
    "    prob = num/denom * 100\n",
    "    prob_round = round(prob, 5)\n",
    "    output = \"The probability of '\" + str(yi) + \"' appearing after '\" + str(yi_1) + \"' is: \" + str(prob_round) + \"%\"\n",
    "    return output"
   ]
  },
  {
   "cell_type": "code",
   "execution_count": 3,
   "metadata": {
    "tags": []
   },
   "outputs": [
    {
     "output_type": "execute_result",
     "data": {
      "text/plain": [
       "({('O', 'STOP'): 17988,\n",
       "  ('I-neutral', 'O'): 12025,\n",
       "  ('B-neutral', 'I-neutral'): 12267,\n",
       "  ('O', 'B-neutral'): 23247,\n",
       "  ('O', 'O'): 132947,\n",
       "  ('B-neutral', 'O'): 11979,\n",
       "  ('START', 'O'): 16697,\n",
       "  ('STOP', 'START'): 18559,\n",
       "  ('B-positive', 'O'): 2132,\n",
       "  ('O', 'B-positive'): 3040,\n",
       "  ('I-positive', 'O'): 1330,\n",
       "  ('B-positive', 'I-positive'): 1391,\n",
       "  ('START', 'B-positive'): 552,\n",
       "  ('B-neutral', 'STOP'): 265,\n",
       "  ('I-neutral', 'I-neutral'): 16493,\n",
       "  ('START', 'B-neutral'): 1141,\n",
       "  ('I-negative', 'O'): 300,\n",
       "  ('B-negative', 'I-negative'): 315,\n",
       "  ('O', 'B-negative'): 947,\n",
       "  ('I-positive', 'I-positive'): 1167,\n",
       "  ('B-negative', 'O'): 759,\n",
       "  ('START', 'B-negative'): 169,\n",
       "  ('B-neutral', 'B-neutral'): 340,\n",
       "  ('I-positive', 'B-neutral'): 13,\n",
       "  ('I-neutral', 'B-neutral'): 111,\n",
       "  ('B-positive', 'STOP'): 75,\n",
       "  ('B-negative', 'STOP'): 48,\n",
       "  ('I-positive', 'STOP'): 43,\n",
       "  ('B-neutral', 'B-negative'): 5,\n",
       "  ('I-neutral', 'STOP'): 127,\n",
       "  ('B-neutral', 'B-positive'): 12,\n",
       "  ('I-negative', 'I-negative'): 186,\n",
       "  ('B-negative', 'B-neutral'): 1,\n",
       "  ('B-positive', 'B-positive'): 60,\n",
       "  ('B-positive', 'B-neutral'): 14,\n",
       "  ('I-positive', 'B-positive'): 5,\n",
       "  ('B-negative', 'B-negative'): 16,\n",
       "  ('I-neutral', 'B-negative'): 1,\n",
       "  ('I-neutral', 'B-positive'): 3,\n",
       "  ('I-negative', 'B-neutral'): 1,\n",
       "  ('I-negative', 'B-negative'): 1,\n",
       "  ('I-negative', 'STOP'): 13},\n",
       " {'O': 178169,\n",
       "  'I-neutral': 28760,\n",
       "  'B-neutral': 24868,\n",
       "  'START': 18559,\n",
       "  'B-positive': 3672,\n",
       "  'I-positive': 2558,\n",
       "  'I-negative': 501,\n",
       "  'B-negative': 1139})"
      ]
     },
     "metadata": {},
     "execution_count": 3
    }
   ],
   "source": [
    "# data = [\n",
    "#     [['O', 'I'], ['like'], ['machine'], ['learning']],\n",
    "#     [['I'], ['love'], ['machine'], ['learning']],\n",
    "# ]\n",
    "a = cstDict(data)\n",
    "a"
   ]
  },
  {
   "cell_type": "code",
   "execution_count": 13,
   "metadata": {},
   "outputs": [
    {
     "output_type": "execute_result",
     "data": {
      "text/plain": [
       "\"The probability of 'like' appearing after 'i' is: 50.0%\""
      ]
     },
     "metadata": {},
     "execution_count": 13
    }
   ],
   "source": [
    "b = cst('I','like')\n",
    "b"
   ]
  },
  {
   "cell_type": "code",
   "execution_count": 15,
   "metadata": {},
   "outputs": [
    {
     "output_type": "stream",
     "name": "stdout",
     "text": [
      "1\n"
     ]
    }
   ],
   "source": [
    "test1,test2 = a\n",
    "print(test2['like'])"
   ]
  },
  {
   "cell_type": "code",
   "execution_count": null,
   "metadata": {},
   "outputs": [],
   "source": []
  }
 ],
 "metadata": {
  "kernelspec": {
   "display_name": "Python 3",
   "language": "python",
   "name": "python3"
  },
  "language_info": {
   "codemirror_mode": {
    "name": "ipython",
    "version": 3
   },
   "file_extension": ".py",
   "mimetype": "text/x-python",
   "name": "python",
   "nbconvert_exporter": "python",
   "pygments_lexer": "ipython3",
   "version": "3.7.4-final"
  }
 },
 "nbformat": 4,
 "nbformat_minor": 4
}