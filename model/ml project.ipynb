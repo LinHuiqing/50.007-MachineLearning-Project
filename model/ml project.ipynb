{
 "cells": [
  {
   "cell_type": "code",
   "execution_count": 16,
   "metadata": {},
   "outputs": [],
   "source": [
    "import pandas as pd"
   ]
  },
  {
   "cell_type": "code",
   "execution_count": 17,
   "metadata": {},
   "outputs": [],
   "source": [
    "df = pd.read_csv(\"SG/train\", sep=\"\\n\", names=['input']) \n",
    "# Preview the first 5 lines of the loaded data \n",
    "# df[['x','y']] = df.input.str.split(\" \",expand=True,)\n",
    "sample_df = df.head(10).copy()"
   ]
  },
  {
   "cell_type": "code",
   "execution_count": 18,
   "metadata": {},
   "outputs": [
    {
     "data": {
      "text/html": [
       "<div>\n",
       "<style scoped>\n",
       "    .dataframe tbody tr th:only-of-type {\n",
       "        vertical-align: middle;\n",
       "    }\n",
       "\n",
       "    .dataframe tbody tr th {\n",
       "        vertical-align: top;\n",
       "    }\n",
       "\n",
       "    .dataframe thead th {\n",
       "        text-align: right;\n",
       "    }\n",
       "</style>\n",
       "<table border=\"1\" class=\"dataframe\">\n",
       "  <thead>\n",
       "    <tr style=\"text-align: right;\">\n",
       "      <th></th>\n",
       "      <th>input</th>\n",
       "    </tr>\n",
       "  </thead>\n",
       "  <tbody>\n",
       "    <tr>\n",
       "      <th>0</th>\n",
       "      <td>Welcome O</td>\n",
       "    </tr>\n",
       "    <tr>\n",
       "      <th>1</th>\n",
       "      <td>lunch O</td>\n",
       "    </tr>\n",
       "    <tr>\n",
       "      <th>2</th>\n",
       "      <td>for O</td>\n",
       "    </tr>\n",
       "    <tr>\n",
       "      <th>3</th>\n",
       "      <td>Charlotte B-neutral</td>\n",
       "    </tr>\n",
       "    <tr>\n",
       "      <th>4</th>\n",
       "      <td>and O</td>\n",
       "    </tr>\n",
       "    <tr>\n",
       "      <th>5</th>\n",
       "      <td>Tin B-neutral</td>\n",
       "    </tr>\n",
       "    <tr>\n",
       "      <th>6</th>\n",
       "      <td>2 I-neutral</td>\n",
       "    </tr>\n",
       "    <tr>\n",
       "      <th>7</th>\n",
       "      <td>. O</td>\n",
       "    </tr>\n",
       "    <tr>\n",
       "      <th>8</th>\n",
       "      <td>#DellPinoys O</td>\n",
       "    </tr>\n",
       "    <tr>\n",
       "      <th>9</th>\n",
       "      <td>#iworkfordell O</td>\n",
       "    </tr>\n",
       "  </tbody>\n",
       "</table>\n",
       "</div>"
      ],
      "text/plain": [
       "                 input\n",
       "0            Welcome O\n",
       "1              lunch O\n",
       "2                for O\n",
       "3  Charlotte B-neutral\n",
       "4                and O\n",
       "5        Tin B-neutral\n",
       "6          2 I-neutral\n",
       "7                  . O\n",
       "8        #DellPinoys O\n",
       "9      #iworkfordell O"
      ]
     },
     "execution_count": 18,
     "metadata": {},
     "output_type": "execute_result"
    }
   ],
   "source": [
    "sample_df"
   ]
  },
  {
   "cell_type": "code",
   "execution_count": 19,
   "metadata": {},
   "outputs": [],
   "source": [
    "sample_df[['x','y']] = sample_df.input.str.split(\" \",expand=True,)"
   ]
  },
  {
   "cell_type": "code",
   "execution_count": 20,
   "metadata": {},
   "outputs": [
    {
     "data": {
      "text/html": [
       "<div>\n",
       "<style scoped>\n",
       "    .dataframe tbody tr th:only-of-type {\n",
       "        vertical-align: middle;\n",
       "    }\n",
       "\n",
       "    .dataframe tbody tr th {\n",
       "        vertical-align: top;\n",
       "    }\n",
       "\n",
       "    .dataframe thead th {\n",
       "        text-align: right;\n",
       "    }\n",
       "</style>\n",
       "<table border=\"1\" class=\"dataframe\">\n",
       "  <thead>\n",
       "    <tr style=\"text-align: right;\">\n",
       "      <th></th>\n",
       "      <th>input</th>\n",
       "      <th>x</th>\n",
       "      <th>y</th>\n",
       "    </tr>\n",
       "  </thead>\n",
       "  <tbody>\n",
       "    <tr>\n",
       "      <th>0</th>\n",
       "      <td>Welcome O</td>\n",
       "      <td>Welcome</td>\n",
       "      <td>O</td>\n",
       "    </tr>\n",
       "    <tr>\n",
       "      <th>1</th>\n",
       "      <td>lunch O</td>\n",
       "      <td>lunch</td>\n",
       "      <td>O</td>\n",
       "    </tr>\n",
       "    <tr>\n",
       "      <th>2</th>\n",
       "      <td>for O</td>\n",
       "      <td>for</td>\n",
       "      <td>O</td>\n",
       "    </tr>\n",
       "    <tr>\n",
       "      <th>3</th>\n",
       "      <td>Charlotte B-neutral</td>\n",
       "      <td>Charlotte</td>\n",
       "      <td>B-neutral</td>\n",
       "    </tr>\n",
       "    <tr>\n",
       "      <th>4</th>\n",
       "      <td>and O</td>\n",
       "      <td>and</td>\n",
       "      <td>O</td>\n",
       "    </tr>\n",
       "    <tr>\n",
       "      <th>5</th>\n",
       "      <td>Tin B-neutral</td>\n",
       "      <td>Tin</td>\n",
       "      <td>B-neutral</td>\n",
       "    </tr>\n",
       "    <tr>\n",
       "      <th>6</th>\n",
       "      <td>2 I-neutral</td>\n",
       "      <td>2</td>\n",
       "      <td>I-neutral</td>\n",
       "    </tr>\n",
       "    <tr>\n",
       "      <th>7</th>\n",
       "      <td>. O</td>\n",
       "      <td>.</td>\n",
       "      <td>O</td>\n",
       "    </tr>\n",
       "    <tr>\n",
       "      <th>8</th>\n",
       "      <td>#DellPinoys O</td>\n",
       "      <td>#DellPinoys</td>\n",
       "      <td>O</td>\n",
       "    </tr>\n",
       "    <tr>\n",
       "      <th>9</th>\n",
       "      <td>#iworkfordell O</td>\n",
       "      <td>#iworkfordell</td>\n",
       "      <td>O</td>\n",
       "    </tr>\n",
       "  </tbody>\n",
       "</table>\n",
       "</div>"
      ],
      "text/plain": [
       "                 input              x          y\n",
       "0            Welcome O        Welcome          O\n",
       "1              lunch O          lunch          O\n",
       "2                for O            for          O\n",
       "3  Charlotte B-neutral      Charlotte  B-neutral\n",
       "4                and O            and          O\n",
       "5        Tin B-neutral            Tin  B-neutral\n",
       "6          2 I-neutral              2  I-neutral\n",
       "7                  . O              .          O\n",
       "8        #DellPinoys O    #DellPinoys          O\n",
       "9      #iworkfordell O  #iworkfordell          O"
      ]
     },
     "execution_count": 20,
     "metadata": {},
     "output_type": "execute_result"
    }
   ],
   "source": [
    "sample_df"
   ]
  },
  {
   "cell_type": "code",
   "execution_count": 8,
   "metadata": {},
   "outputs": [],
   "source": [
    "# sample_df = sample_df.drop(columns='input')"
   ]
  },
  {
   "cell_type": "code",
   "execution_count": 23,
   "metadata": {},
   "outputs": [
    {
     "data": {
      "text/html": [
       "<div>\n",
       "<style scoped>\n",
       "    .dataframe tbody tr th:only-of-type {\n",
       "        vertical-align: middle;\n",
       "    }\n",
       "\n",
       "    .dataframe tbody tr th {\n",
       "        vertical-align: top;\n",
       "    }\n",
       "\n",
       "    .dataframe thead th {\n",
       "        text-align: right;\n",
       "    }\n",
       "</style>\n",
       "<table border=\"1\" class=\"dataframe\">\n",
       "  <thead>\n",
       "    <tr style=\"text-align: right;\">\n",
       "      <th></th>\n",
       "      <th>input</th>\n",
       "      <th>x</th>\n",
       "      <th>y</th>\n",
       "    </tr>\n",
       "  </thead>\n",
       "  <tbody>\n",
       "    <tr>\n",
       "      <th>0</th>\n",
       "      <td>Welcome O</td>\n",
       "      <td>Welcome</td>\n",
       "      <td>O</td>\n",
       "    </tr>\n",
       "    <tr>\n",
       "      <th>1</th>\n",
       "      <td>lunch O</td>\n",
       "      <td>lunch</td>\n",
       "      <td>O</td>\n",
       "    </tr>\n",
       "    <tr>\n",
       "      <th>2</th>\n",
       "      <td>for O</td>\n",
       "      <td>for</td>\n",
       "      <td>O</td>\n",
       "    </tr>\n",
       "    <tr>\n",
       "      <th>3</th>\n",
       "      <td>Charlotte B-neutral</td>\n",
       "      <td>Charlotte</td>\n",
       "      <td>B-neutral</td>\n",
       "    </tr>\n",
       "    <tr>\n",
       "      <th>4</th>\n",
       "      <td>and O</td>\n",
       "      <td>and</td>\n",
       "      <td>O</td>\n",
       "    </tr>\n",
       "    <tr>\n",
       "      <th>5</th>\n",
       "      <td>Tin B-neutral</td>\n",
       "      <td>Tin</td>\n",
       "      <td>B-neutral</td>\n",
       "    </tr>\n",
       "    <tr>\n",
       "      <th>6</th>\n",
       "      <td>2 I-neutral</td>\n",
       "      <td>2</td>\n",
       "      <td>I-neutral</td>\n",
       "    </tr>\n",
       "    <tr>\n",
       "      <th>7</th>\n",
       "      <td>. O</td>\n",
       "      <td>.</td>\n",
       "      <td>O</td>\n",
       "    </tr>\n",
       "    <tr>\n",
       "      <th>8</th>\n",
       "      <td>#DellPinoys O</td>\n",
       "      <td>#DellPinoys</td>\n",
       "      <td>O</td>\n",
       "    </tr>\n",
       "    <tr>\n",
       "      <th>9</th>\n",
       "      <td>#iworkfordell O</td>\n",
       "      <td>#iworkfordell</td>\n",
       "      <td>O</td>\n",
       "    </tr>\n",
       "    <tr>\n",
       "      <th>10</th>\n",
       "      <td>2 I-neutral</td>\n",
       "      <td>2</td>\n",
       "      <td>I-neutral</td>\n",
       "    </tr>\n",
       "  </tbody>\n",
       "</table>\n",
       "</div>"
      ],
      "text/plain": [
       "                  input              x          y\n",
       "0             Welcome O        Welcome          O\n",
       "1               lunch O          lunch          O\n",
       "2                 for O            for          O\n",
       "3   Charlotte B-neutral      Charlotte  B-neutral\n",
       "4                 and O            and          O\n",
       "5         Tin B-neutral            Tin  B-neutral\n",
       "6           2 I-neutral              2  I-neutral\n",
       "7                   . O              .          O\n",
       "8         #DellPinoys O    #DellPinoys          O\n",
       "9       #iworkfordell O  #iworkfordell          O\n",
       "10          2 I-neutral              2  I-neutral"
      ]
     },
     "execution_count": 23,
     "metadata": {},
     "output_type": "execute_result"
    }
   ],
   "source": [
    "# sample_df\n",
    "sample_df.loc[10]=['2 I-neutral','2', 'I-neutral']\n",
    "sample_df"
   ]
  },
  {
   "cell_type": "code",
   "execution_count": 30,
   "metadata": {},
   "outputs": [],
   "source": [
    "# column_name=['O','B-negative','B-positive','B-neutral','I-negative','I-positive','I-neutral']\n",
    "# target_df_y = pd.DataFrame(columns=column_name)\n",
    "# ind = 0\n",
    "# for index,row in sample_df.iterrows():\n",
    "#     new_row =[0 for i in range(len(column_name))]\n",
    "# #     print(row['y'])\n",
    "#     index = column_name.index(row['y'])\n",
    "#     new_row[index]=1\n",
    "#     target_df_y.loc[ind] = new_row\n",
    "#     ind+=1\n",
    "# target_df_y"
   ]
  },
  {
   "cell_type": "code",
   "execution_count": 13,
   "metadata": {},
   "outputs": [
    {
     "data": {
      "text/html": [
       "<div>\n",
       "<style scoped>\n",
       "    .dataframe tbody tr th:only-of-type {\n",
       "        vertical-align: middle;\n",
       "    }\n",
       "\n",
       "    .dataframe tbody tr th {\n",
       "        vertical-align: top;\n",
       "    }\n",
       "\n",
       "    .dataframe thead th {\n",
       "        text-align: right;\n",
       "    }\n",
       "</style>\n",
       "<table border=\"1\" class=\"dataframe\">\n",
       "  <thead>\n",
       "    <tr style=\"text-align: right;\">\n",
       "      <th></th>\n",
       "      <th>O</th>\n",
       "      <th>B-negative</th>\n",
       "      <th>B-positive</th>\n",
       "      <th>B-neutral</th>\n",
       "      <th>I-negative</th>\n",
       "      <th>I-positive</th>\n",
       "      <th>I-neutral</th>\n",
       "    </tr>\n",
       "  </thead>\n",
       "  <tbody>\n",
       "    <tr>\n",
       "      <th>0</th>\n",
       "      <td>0</td>\n",
       "      <td>0</td>\n",
       "      <td>0</td>\n",
       "      <td>0</td>\n",
       "      <td>0</td>\n",
       "      <td>0</td>\n",
       "      <td>0</td>\n",
       "    </tr>\n",
       "    <tr>\n",
       "      <th>1</th>\n",
       "      <td>0</td>\n",
       "      <td>0</td>\n",
       "      <td>0</td>\n",
       "      <td>0</td>\n",
       "      <td>0</td>\n",
       "      <td>0</td>\n",
       "      <td>0</td>\n",
       "    </tr>\n",
       "  </tbody>\n",
       "</table>\n",
       "</div>"
      ],
      "text/plain": [
       "   O B-negative B-positive B-neutral I-negative I-positive I-neutral\n",
       "0  0          0          0         0          0          0         0\n",
       "1  0          0          0         0          0          0         0"
      ]
     },
     "execution_count": 13,
     "metadata": {},
     "output_type": "execute_result"
    }
   ],
   "source": [
    "# column_name=['O','B-negative','B-positive','B-neutral','I-negative','I-positive','I-neutral']\n",
    "# target_df_bloop = pd.DataFrame(columns=column_name)\n",
    "# loop=[0 for i in range(7)]\n",
    "# target_df_bloop.loc[0] = loop\n",
    "# target_df_bloop.loc[1] = loop\n",
    "# target_df_bloop"
   ]
  },
  {
   "cell_type": "code",
   "execution_count": 24,
   "metadata": {},
   "outputs": [
    {
     "data": {
      "text/plain": [
       "{'O': 7,\n",
       " 'B-negative': 0,\n",
       " 'B-positive': 0,\n",
       " 'B-neutral': 2,\n",
       " 'I-negative': 0,\n",
       " 'I-positive': 0,\n",
       " 'I-neutral': 2}"
      ]
     },
     "execution_count": 24,
     "metadata": {},
     "output_type": "execute_result"
    }
   ],
   "source": [
    "# get count of tags\n",
    "column_name=['O','B-negative','B-positive','B-neutral','I-negative','I-positive','I-neutral']\n",
    "tags = { i : 0 for i in column_name }\n",
    "for index,row in sample_df.iterrows():\n",
    "    y_val = row.get('y', default=None)\n",
    "    tags[y_val]+=1\n",
    "tags"
   ]
  },
  {
   "cell_type": "code",
   "execution_count": 25,
   "metadata": {},
   "outputs": [
    {
     "data": {
      "text/plain": [
       "{'Welcome O': 1,\n",
       " 'lunch O': 1,\n",
       " 'for O': 1,\n",
       " 'Charlotte B-neutral': 1,\n",
       " 'and O': 1,\n",
       " 'Tin B-neutral': 1,\n",
       " '2 I-neutral': 2,\n",
       " '. O': 1,\n",
       " '#DellPinoys O': 1,\n",
       " '#iworkfordell O': 1}"
      ]
     },
     "execution_count": 25,
     "metadata": {},
     "output_type": "execute_result"
    }
   ],
   "source": [
    "# count no. of x->y\n",
    "count_xy ={}\n",
    "for index,row in sample_df.iterrows():\n",
    "    xy = row.get('input', default=None)\n",
    "    if xy in count_xy.keys():\n",
    "        count_xy[xy]+=1\n",
    "    else:\n",
    "        count_xy[xy]=1\n",
    "count_xy"
   ]
  },
  {
   "cell_type": "code",
   "execution_count": 27,
   "metadata": {},
   "outputs": [
    {
     "data": {
      "text/plain": [
       "{'Welcome O': 0.14285714285714285,\n",
       " 'lunch O': 0.14285714285714285,\n",
       " 'for O': 0.14285714285714285,\n",
       " 'Charlotte B-neutral': 0.5,\n",
       " 'and O': 0.14285714285714285,\n",
       " 'Tin B-neutral': 0.5,\n",
       " '2 I-neutral': 1.0,\n",
       " '. O': 0.14285714285714285,\n",
       " '#DellPinoys O': 0.14285714285714285,\n",
       " '#iworkfordell O': 0.14285714285714285}"
      ]
     },
     "execution_count": 27,
     "metadata": {},
     "output_type": "execute_result"
    }
   ],
   "source": [
    "emission_table={}\n",
    "for key,value in count_xy.items():\n",
    "    get_tag = key.split(\" \")\n",
    "    y = tags[get_tag[1]]\n",
    "    emission = value/y\n",
    "    emission_table[key]=emission\n",
    "emission_table "
   ]
  },
  {
   "cell_type": "code",
   "execution_count": 29,
   "metadata": {},
   "outputs": [
    {
     "data": {
      "text/plain": [
       "0.14285714285714285"
      ]
     },
     "execution_count": 29,
     "metadata": {},
     "output_type": "execute_result"
    }
   ],
   "source": [
    "def estimate_emission(x,y):\n",
    "    query = str(x)+\" \"+ str(y)\n",
    "    return emission_table[query]\n",
    "estimate_emission('Welcome', \"O\")"
   ]
  },
  {
   "cell_type": "code",
   "execution_count": 31,
   "metadata": {},
   "outputs": [
    {
     "data": {
      "text/plain": [
       "{'Welcome O': 0.13333333333333333,\n",
       " 'lunch O': 0.13333333333333333,\n",
       " 'for O': 0.13333333333333333,\n",
       " 'Charlotte B-neutral': 0.4,\n",
       " 'and O': 0.13333333333333333,\n",
       " 'Tin B-neutral': 0.4,\n",
       " '2 I-neutral': 0.8,\n",
       " '. O': 0.13333333333333333,\n",
       " '#DellPinoys O': 0.13333333333333333,\n",
       " '#iworkfordell O': 0.13333333333333333}"
      ]
     },
     "execution_count": 31,
     "metadata": {},
     "output_type": "execute_result"
    }
   ],
   "source": [
    "emission_table_k={}\n",
    "k=0.5\n",
    "for key,value in count_xy.items():\n",
    "    get_tag = key.split(\" \")\n",
    "    y = tags[get_tag[1]]\n",
    "    emission = value/(y+k)\n",
    "    emission_table_k[key]=emission\n",
    "emission_table_k "
   ]
  },
  {
   "cell_type": "code",
   "execution_count": 32,
   "metadata": {},
   "outputs": [
    {
     "data": {
      "text/plain": [
       "0.13333333333333333"
      ]
     },
     "execution_count": 32,
     "metadata": {},
     "output_type": "execute_result"
    }
   ],
   "source": [
    "def estimate_emission_with_unk(x,y):\n",
    "    query = str(x)+\" \"+ str(y)\n",
    "    if query not in emission_table.keys():\n",
    "        # is an #UNK#\n",
    "        print('is an #UNK#')\n",
    "        return k/(tags[y]+k)\n",
    "    else:\n",
    "        return emission_table_k[query]\n",
    "estimate_emission_with_unk('Welcome', \"O\")        \n",
    "        "
   ]
  },
  {
   "cell_type": "code",
   "execution_count": 33,
   "metadata": {},
   "outputs": [
    {
     "name": "stdout",
     "output_type": "stream",
     "text": [
      "is an #UNK#\n"
     ]
    },
    {
     "data": {
      "text/plain": [
       "0.06666666666666667"
      ]
     },
     "execution_count": 33,
     "metadata": {},
     "output_type": "execute_result"
    }
   ],
   "source": [
    "estimate_emission_with_unk('bloop','O')"
   ]
  },
  {
   "cell_type": "code",
   "execution_count": null,
   "metadata": {},
   "outputs": [],
   "source": []
  }
 ],
 "metadata": {
  "kernelspec": {
   "display_name": "Python 3",
   "language": "python",
   "name": "python3"
  },
  "language_info": {
   "codemirror_mode": {
    "name": "ipython",
    "version": 3
   },
   "file_extension": ".py",
   "mimetype": "text/x-python",
   "name": "python",
   "nbconvert_exporter": "python",
   "pygments_lexer": "ipython3",
   "version": "3.7.6"
  }
 },
 "nbformat": 4,
 "nbformat_minor": 4
}
